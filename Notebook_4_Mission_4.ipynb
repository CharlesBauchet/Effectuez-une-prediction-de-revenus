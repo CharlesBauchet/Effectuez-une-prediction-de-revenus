{
 "cells": [
  {
   "cell_type": "markdown",
   "id": "f5edea73",
   "metadata": {},
   "source": [
    "## Scénario\n",
    "Vous êtes employé dans une banque, présente dans de nombreux pays à travers le monde. Celle-ci souhaite cibler de nouveaux clients potentiels, plus particulièrement les jeunes en âge d'ouvrir leur tout premier compte bancaire.\n",
    "\n",
    "Cependant, elle souhaite cibler les prospects les plus susceptibles d'avoir, plus tard dans leur vie, de hauts revenus.\n",
    "\n",
    "L'équipe dans laquelle vous travaillez a donc reçu pour mission de créer un modèle permettant de déterminer le revenu potentiel d'une personne.\n",
    "\n",
    "Ainsi, vous proposez une régression linéaire avec 3 variables :\n",
    "\n",
    "- le revenu des parents ;\n",
    "- le revenu moyen du pays dans lequel habite le prospect ;\n",
    "- l'indice de Gini calculé sur les revenus des habitants du pays en question."
   ]
  },
  {
   "cell_type": "markdown",
   "id": "30745640",
   "metadata": {},
   "source": [
    "## Mission 4\n",
    "Pour cette mission 4, nous chercherons à expliquer le revenu des individus en fonction de plusieurs variables explicatives : le pays de l'individu, l'indice de Gini de ce pays, la classe de revenus des parents, etc.\n",
    "\n",
    "Appliquez une ANOVA sur vos données, en n’incluant comme variable explicative que le pays de l’individu. Analysez la performance du modèle."
   ]
  },
  {
   "cell_type": "markdown",
   "id": "fb302ac3",
   "metadata": {},
   "source": [
    "Chapitre à réviser pour la mission 4 :\n",
    "\n",
    "ANOVA à un facteur variable explicative le pays de l’individu :\n",
    "- ANOVA pour tester l'influence du pays de l’individu sur le revenu moyen des individus ( income - country_code ), la variance de 'income' peut être expliquer par la variable 'pays'.\n",
    "- Test de Fisher pour savoir si le pays à une influence sur le revenus moyen des individus\n",
    "\n",
    "Comparaison de l'ANOVA avec le logarithme du revenu de l'individu :\n",
    "Le modèle sera t-il plus performant? Le but ici est de pouvoir déterminer l'impact du logarithme sur l'ANOVA.\n",
    "- faire la même manip que précedement mais en changeant la variable 'income' en logarithme income\n",
    "\n",
    "Regression Linéaire\n",
    "Régression linéaire sur nos données, en incluant comme variables explicatives uniquement le revenu moyen du pays de l’individu et l’indice de Gini du pays de l’individu. Quel est le pourcentage de variance expliquée par le(s) modèle(s) ?\n",
    "- même manip mais avec 3 variables (income ~ gini, income_moyenne)\n",
    "\n",
    "Seconde Régression Linéaire : Logarithme du Revenu moyen du pays de l’individu et l’indice de Gini du pays de l’individu\n",
    "- meme manip avec 3 variables mais cette fois logarithmé pour savoir si la performance est meilleur (ln_income ~ gini, ln_income_moyenne)\n",
    "\n",
    "Comparaison des régressions linéaires en utilisant Scikit-Learn :\n",
    "- utiliser la fonctions 'linear_model' pour comparer les deux régressions utilisé précedement\n",
    "\n",
    "Diagnostic de la régression linéaire des deux modèles (sans et avec logarithme) :\n",
    "- sur ces deux régression lequels suivent une meilleur loi gaussienne (graphique)\n",
    "\n",
    "- Autre visualisation de la distribution des résidus :\n",
    "Le graphique qqplot permet de vérifier la compatibilité de deux distributions. Dans notre cas, nous confrontons la distribution empirique des résidus avec la distribution théorique de la loi normale. On parle aussi de Droite de Henry. L’hypothèse nulle (normalité) est rejetée si la série de points s’écarte manifestement de la diagonale.\n",
    "\n",
    "- Test d'adéquation à une loi normale : la statistique de Kolmogorov-Smirnov\n",
    "On peut se douter que la distribution de nos résidus n'est pas \"parfaite\". Vérifions-le par les chiffres. L'échantillon étant de forte volumétrie, le test se fera selon Kolmogorov-Smirnov et non Shapiro-Wilk.\n",
    "\n",
    "- Test de colinéarité de nos deux modèles\n",
    "Vérification d'une éventuelle colinéarité approchée des variables.\n",
    "from statsmodels.stats.outliers_influence import variance_inflation_factor\n",
    "\n",
    "- Test d’homoscédasticité (constance des variables ) par Breusch-Pagan :\n",
    "Ce test consiste à vérifier la constance de la variation des résidus. En cas d'hétéroscédasticité, la variance de l'erreur n'est pas constante. Dans le cas contraire, (hypothèse d'homoscédasticité) la variance de l'erreur est constante.\n",
    "sms.het_breuschpagan\n",
    "\n",
    "- Détection des points atypiques et influents\n",
    "Les deux précédents modèles, issus du résultat de la régression, seront utilisés pour analyser les points influents.\n",
    "Les tests seront fait à un niveau alpha de 5%\n",
    "n sera le nombre d'individus de l'échantillon, et p le nombre de variables :\n",
    "\n",
    "- Analyse des leviers avec seuil :\n",
    "Le seuil des leviers est de 2 * p/n\n",
    "get_influence().hat_matrix_diag + graphique\n",
    "\n",
    "à quoi correspondent ces leviers, quels sont ces pays hors seuil?\n",
    "\n",
    "quels model est le plus performant ? celui à l'echelle logarithmé ou celui à l'échelle linéaire\n",
    "\n",
    "- Analyse des résidus studentisés (standardisés) graphiquement & en pourcentage :\n",
    "Le seuil pour les résidus studentisés est une loi de Student à n-p-1 degrés de liberté.\n",
    "Il nécessaire d'observer le rôle conjoint du levier et du résidu standardisé.\n",
    "\n",
    "- Analyse de la distance de Cook :\n",
    "Toujours à l'aide de statsmodels la distance de Cook permettra de mieux estimer les influents.\n",
    "\n",
    "refaire toutes les analyses statistiques en incluant la variable 'revenus des parents' ce qui nous fera un total de 4 variables."
   ]
  },
  {
   "cell_type": "code",
   "execution_count": 1,
   "id": "b2327443",
   "metadata": {},
   "outputs": [
    {
     "data": {
      "text/html": [
       "<div>\n",
       "<style scoped>\n",
       "    .dataframe tbody tr th:only-of-type {\n",
       "        vertical-align: middle;\n",
       "    }\n",
       "\n",
       "    .dataframe tbody tr th {\n",
       "        vertical-align: top;\n",
       "    }\n",
       "\n",
       "    .dataframe thead th {\n",
       "        text-align: right;\n",
       "    }\n",
       "</style>\n",
       "<table border=\"1\" class=\"dataframe\">\n",
       "  <thead>\n",
       "    <tr style=\"text-align: right;\">\n",
       "      <th></th>\n",
       "      <th>country</th>\n",
       "      <th>mj</th>\n",
       "      <th>country_code</th>\n",
       "      <th>quantile</th>\n",
       "      <th>income</th>\n",
       "      <th>Gj</th>\n",
       "      <th>pj</th>\n",
       "      <th>y_child</th>\n",
       "      <th>y_parents</th>\n",
       "      <th>c_i_parent</th>\n",
       "    </tr>\n",
       "  </thead>\n",
       "  <tbody>\n",
       "    <tr>\n",
       "      <th>1124652</th>\n",
       "      <td>Croatia</td>\n",
       "      <td>7716.465790</td>\n",
       "      <td>HRV</td>\n",
       "      <td>53</td>\n",
       "      <td>6749.6113</td>\n",
       "      <td>0.30</td>\n",
       "      <td>0.464077</td>\n",
       "      <td>1.641855</td>\n",
       "      <td>5.261404</td>\n",
       "      <td>96</td>\n",
       "    </tr>\n",
       "    <tr>\n",
       "      <th>1117713</th>\n",
       "      <td>Croatia</td>\n",
       "      <td>7716.465790</td>\n",
       "      <td>HRV</td>\n",
       "      <td>14</td>\n",
       "      <td>3747.9320</td>\n",
       "      <td>0.30</td>\n",
       "      <td>0.464077</td>\n",
       "      <td>1.453733</td>\n",
       "      <td>1.358711</td>\n",
       "      <td>63</td>\n",
       "    </tr>\n",
       "    <tr>\n",
       "      <th>92901</th>\n",
       "      <td>Argentina</td>\n",
       "      <td>5847.884654</td>\n",
       "      <td>ARG</td>\n",
       "      <td>2</td>\n",
       "      <td>470.5015</td>\n",
       "      <td>0.45</td>\n",
       "      <td>0.660000</td>\n",
       "      <td>1.402886</td>\n",
       "      <td>1.508370</td>\n",
       "      <td>66</td>\n",
       "    </tr>\n",
       "    <tr>\n",
       "      <th>2074462</th>\n",
       "      <td>Honduras</td>\n",
       "      <td>3296.268419</td>\n",
       "      <td>HND</td>\n",
       "      <td>63</td>\n",
       "      <td>2418.6306</td>\n",
       "      <td>0.56</td>\n",
       "      <td>0.660000</td>\n",
       "      <td>1.531215</td>\n",
       "      <td>0.816413</td>\n",
       "      <td>42</td>\n",
       "    </tr>\n",
       "    <tr>\n",
       "      <th>300426</th>\n",
       "      <td>Belarus</td>\n",
       "      <td>3921.163534</td>\n",
       "      <td>BLR</td>\n",
       "      <td>27</td>\n",
       "      <td>2579.6372</td>\n",
       "      <td>0.28</td>\n",
       "      <td>0.342738</td>\n",
       "      <td>4.857890</td>\n",
       "      <td>0.959364</td>\n",
       "      <td>49</td>\n",
       "    </tr>\n",
       "  </tbody>\n",
       "</table>\n",
       "</div>"
      ],
      "text/plain": [
       "           country           mj country_code  quantile     income    Gj  \\\n",
       "1124652    Croatia  7716.465790          HRV        53  6749.6113  0.30   \n",
       "1117713    Croatia  7716.465790          HRV        14  3747.9320  0.30   \n",
       "92901    Argentina  5847.884654          ARG         2   470.5015  0.45   \n",
       "2074462   Honduras  3296.268419          HND        63  2418.6306  0.56   \n",
       "300426     Belarus  3921.163534          BLR        27  2579.6372  0.28   \n",
       "\n",
       "               pj   y_child  y_parents  c_i_parent  \n",
       "1124652  0.464077  1.641855   5.261404          96  \n",
       "1117713  0.464077  1.453733   1.358711          63  \n",
       "92901    0.660000  1.402886   1.508370          66  \n",
       "2074462  0.660000  1.531215   0.816413          42  \n",
       "300426   0.342738  4.857890   0.959364          49  "
      ]
     },
     "metadata": {},
     "output_type": "display_data"
    },
    {
     "data": {
      "text/plain": [
       "(1450000, 10)"
      ]
     },
     "metadata": {},
     "output_type": "display_data"
    }
   ],
   "source": [
    "# Importation des librairies nécessaire à l'analyse\n",
    "import pandas as pd\n",
    "import numpy as np\n",
    "import matplotlib.pyplot as plt\n",
    "import seaborn as sns\n",
    "from sklearn import preprocessing, cluster, metrics, decomposition\n",
    "from sklearn.cluster import KMeans\n",
    "import scipy.stats as st\n",
    "from collections import Counter\n",
    "import plotly.express as px\n",
    "from scipy import stats\n",
    "import statsmodels.formula.api as smf\n",
    "import statsmodels.api as sm\n",
    "import statsmodels.stats.api as sms\n",
    "\n",
    "#Paramètres de style de nos prochains graphique\n",
    "plt.style.use('ggplot')\n",
    "\n",
    "# Importation de mon dataframe de travail\n",
    "df_500 = pd.read_csv('df_mission4.csv')\n",
    "\n",
    "# Extrait aléatoire à hauteur de 25% de mon dataframe d'origine car mon pc n'arrive \n",
    "# pas à supporter le calcul de 5.8M d'individus\n",
    "df_500 = df_500.sample(frac = 0.25, axis = 0)\n",
    "\n",
    "# Visualisation du dataframe\n",
    "display(df_500.head())\n",
    "display(df_500.shape)"
   ]
  },
  {
   "cell_type": "markdown",
   "id": "e1ceab67",
   "metadata": {},
   "source": [
    "## ANOVA : De la variable explicative 'country'(pays de l'individu) sur les autres variables"
   ]
  },
  {
   "cell_type": "markdown",
   "id": "07c2d7e8",
   "metadata": {},
   "source": [
    "Voyons pas le biais d'un graphique 'boxplot' la distribution du revenus de nos individus sur l'échantillon utilisé dans la mission 2(Luxembourg, United States, South Africa, Russian Federation, The Former Yugoslav Republic of Macedonia, Republic of Korea, France)."
   ]
  },
  {
   "cell_type": "code",
   "execution_count": 2,
   "id": "3f15fe7f",
   "metadata": {},
   "outputs": [],
   "source": [
    "# Liste des pays sélectionner\n",
    "liste_pays = ['Luxembourg', 'United States', 'South Africa', 'Russian Federation', 'The Former Yugoslav Republic of Macedonia', 'Republic of Korea', 'France']\n",
    "df_liste_pays = df_500[df_500['country'].isin(liste_pays)]"
   ]
  },
  {
   "cell_type": "code",
   "execution_count": 3,
   "id": "bdd29bd4",
   "metadata": {},
   "outputs": [
    {
     "data": {
      "image/png": "[encoded data removed]",
      "text/plain": [
       "<Figure size 1080x720 with 1 Axes>"
      ]
     },
     "metadata": {},
     "output_type": "display_data"
    }
   ],
   "source": [
    "# Création de notre boxplot\n",
    "plt.figure(figsize=(15, 10))\n",
    "\n",
    "ax = sns.boxplot(x = 'country', y = 'income', data = df_liste_pays)\n",
    "plt.title('Distribution des revenus par pays', fontsize = 20)\n",
    "plt.xlabel('Country', fontsize = 15)\n",
    "plt.ylabel('Revenus', fontsize = 15)\n",
    "\n",
    "plt.savefig('Graphs/Distribution_des_revenus.png')\n",
    "plt.show()"
   ]
  },
  {
   "cell_type": "markdown",
   "id": "5ad6e254",
   "metadata": {},
   "source": [
    "On peut constater certaines différences de distribution selon les pays, l'analyse de la variance va nous indiquer si la différence est réelement significatif ou non."
   ]
  },
  {
   "cell_type": "code",
   "execution_count": 4,
   "id": "f502ca24",
   "metadata": {},
   "outputs": [],
   "source": [
    "# réduction du chiffre après la virgule et du type de nos valeurs car mon pc n'est pas assez puissant\n",
    "df_500['income'] = df_500['income'].apply(lambda x: round(x, 1)).astype(np.float32)\n",
    "df_500['Gj'] = df_500['Gj'].apply(lambda x: round(x, 1)).astype(np.float32)\n",
    "df_500['pj'] = df_500['pj'].apply(lambda x: round(x, 1)).astype(np.float32)\n",
    "df_500['mj'] = df_500['mj'].apply(lambda x: round(x, 1)).astype(np.float32)"
   ]
  },
  {
   "cell_type": "code",
   "execution_count": 5,
   "id": "76fb41de",
   "metadata": {},
   "outputs": [
    {
     "data": {
      "text/html": [
       "<table class=\"simpletable\">\n",
       "<caption>OLS Regression Results</caption>\n",
       "<tr>\n",
       "  <th>Dep. Variable:</th>         <td>income</td>      <th>  R-squared:         </th>  <td>   0.497</td>  \n",
       "</tr>\n",
       "<tr>\n",
       "  <th>Model:</th>                   <td>OLS</td>       <th>  Adj. R-squared:    </th>  <td>   0.497</td>  \n",
       "</tr>\n",
       "<tr>\n",
       "  <th>Method:</th>             <td>Least Squares</td>  <th>  F-statistic:       </th>  <td>1.244e+04</td> \n",
       "</tr>\n",
       "<tr>\n",
       "  <th>Date:</th>             <td>Fri, 18 Mar 2022</td> <th>  Prob (F-statistic):</th>   <td>  0.00</td>   \n",
       "</tr>\n",
       "<tr>\n",
       "  <th>Time:</th>                 <td>18:07:43</td>     <th>  Log-Likelihood:    </th> <td>-1.4827e+07</td>\n",
       "</tr>\n",
       "<tr>\n",
       "  <th>No. Observations:</th>      <td>1450000</td>     <th>  AIC:               </th>  <td>2.965e+07</td> \n",
       "</tr>\n",
       "<tr>\n",
       "  <th>Df Residuals:</th>          <td>1449884</td>     <th>  BIC:               </th>  <td>2.966e+07</td> \n",
       "</tr>\n",
       "<tr>\n",
       "  <th>Df Model:</th>              <td>   115</td>      <th>                     </th>      <td> </td>     \n",
       "</tr>\n",
       "<tr>\n",
       "  <th>Covariance Type:</th>      <td>nonrobust</td>    <th>                     </th>      <td> </td>     \n",
       "</tr>\n",
       "</table>"
      ],
      "text/plain": [
       "<class 'statsmodels.iolib.table.SimpleTable'>"
      ]
     },
     "execution_count": 5,
     "metadata": {},
     "output_type": "execute_result"
    }
   ],
   "source": [
    "# Analyse de la variance de la variable explicative 'country' sur la variable qu'on cherche à expliquer 'income'\n",
    "alpha = 0.05\n",
    "anova_income = smf.ols('income ~ country', data = df_500).fit(alpha=alpha)\n",
    "anova_income.summary().tables[0]"
   ]
  },
  {
   "cell_type": "markdown",
   "id": "2c624946",
   "metadata": {},
   "source": [
    "R² = 0.50, on peut en conclure que la variable explicative 'country' explique près de 50% de la variance de la variable 'income'. Le reste, donc la moitié de la variance sur le revenu est expliquée par les autres facteurs non considérés dans ce modèle."
   ]
  },
  {
   "cell_type": "code",
   "execution_count": 6,
   "id": "8102d42c",
   "metadata": {},
   "outputs": [
    {
     "data": {
      "text/html": [
       "<div>\n",
       "<style scoped>\n",
       "    .dataframe tbody tr th:only-of-type {\n",
       "        vertical-align: middle;\n",
       "    }\n",
       "\n",
       "    .dataframe tbody tr th {\n",
       "        vertical-align: top;\n",
       "    }\n",
       "\n",
       "    .dataframe thead th {\n",
       "        text-align: right;\n",
       "    }\n",
       "</style>\n",
       "<table border=\"1\" class=\"dataframe\">\n",
       "  <thead>\n",
       "    <tr style=\"text-align: right;\">\n",
       "      <th></th>\n",
       "      <th>sum_sq</th>\n",
       "      <th>df</th>\n",
       "      <th>F</th>\n",
       "      <th>PR(&gt;F)</th>\n",
       "    </tr>\n",
       "  </thead>\n",
       "  <tbody>\n",
       "    <tr>\n",
       "      <th>country</th>\n",
       "      <td>6.381183e+13</td>\n",
       "      <td>115.0</td>\n",
       "      <td>12438.952026</td>\n",
       "      <td>0.0</td>\n",
       "    </tr>\n",
       "    <tr>\n",
       "      <th>Residual</th>\n",
       "      <td>6.467744e+13</td>\n",
       "      <td>1449884.0</td>\n",
       "      <td>NaN</td>\n",
       "      <td>NaN</td>\n",
       "    </tr>\n",
       "  </tbody>\n",
       "</table>\n",
       "</div>"
      ],
      "text/plain": [
       "                sum_sq         df             F  PR(>F)\n",
       "country   6.381183e+13      115.0  12438.952026     0.0\n",
       "Residual  6.467744e+13  1449884.0           NaN     NaN"
      ]
     },
     "execution_count": 6,
     "metadata": {},
     "output_type": "execute_result"
    }
   ],
   "source": [
    "# Test de Fisher qui va nous aider à comparer la variance de notre variable 'country', pour définir si notre hypothèse 'H0' est rejeté ou non\n",
    "# notes : le numérateur doit être supérieur au dénominateur,\n",
    "sm.stats.anova_lm(anova_income, typ=2)"
   ]
  },
  {
   "cell_type": "markdown",
   "id": "79158f51",
   "metadata": {},
   "source": [
    "Le p-valeur de se test est de 0.0, ce qui nous indique que notre hypothèse h0 est rejetée et par conséquent que la variable 'pays' à bien une influence sur notre variable 'income'."
   ]
  },
  {
   "cell_type": "markdown",
   "id": "3ddd1b0f",
   "metadata": {},
   "source": [
    "### Répétition de la manipulation mais cette fois à l'échelle logarithmique"
   ]
  },
  {
   "cell_type": "code",
   "execution_count": 7,
   "id": "adb138bf",
   "metadata": {},
   "outputs": [],
   "source": [
    "# Création d'une variable logarithme 'ln_income'\n",
    "df_500['ln_income'] = np.log(df_500['income'])\n",
    "\n",
    "# réduction du chiffre après la virgule et du type de nos valeurs car mon pc n'est pas assez puissant\n",
    "df_500['ln_income'] = df_500['ln_income'].apply(lambda x: round(x, 1)).astype(np.float32)"
   ]
  },
  {
   "cell_type": "code",
   "execution_count": 8,
   "id": "769812cd",
   "metadata": {},
   "outputs": [
    {
     "data": {
      "text/html": [
       "<table class=\"simpletable\">\n",
       "<caption>OLS Regression Results</caption>\n",
       "<tr>\n",
       "  <th>Dep. Variable:</th>        <td>ln_income</td>    <th>  R-squared:         </th>  <td>   0.730</td>  \n",
       "</tr>\n",
       "<tr>\n",
       "  <th>Model:</th>                   <td>OLS</td>       <th>  Adj. R-squared:    </th>  <td>   0.730</td>  \n",
       "</tr>\n",
       "<tr>\n",
       "  <th>Method:</th>             <td>Least Squares</td>  <th>  F-statistic:       </th>  <td>3.403e+04</td> \n",
       "</tr>\n",
       "<tr>\n",
       "  <th>Date:</th>             <td>Fri, 18 Mar 2022</td> <th>  Prob (F-statistic):</th>   <td>  0.00</td>   \n",
       "</tr>\n",
       "<tr>\n",
       "  <th>Time:</th>                 <td>18:08:18</td>     <th>  Log-Likelihood:    </th> <td>-1.5778e+06</td>\n",
       "</tr>\n",
       "<tr>\n",
       "  <th>No. Observations:</th>      <td>1450000</td>     <th>  AIC:               </th>  <td>3.156e+06</td> \n",
       "</tr>\n",
       "<tr>\n",
       "  <th>Df Residuals:</th>          <td>1449884</td>     <th>  BIC:               </th>  <td>3.157e+06</td> \n",
       "</tr>\n",
       "<tr>\n",
       "  <th>Df Model:</th>              <td>   115</td>      <th>                     </th>      <td> </td>     \n",
       "</tr>\n",
       "<tr>\n",
       "  <th>Covariance Type:</th>      <td>nonrobust</td>    <th>                     </th>      <td> </td>     \n",
       "</tr>\n",
       "</table>"
      ],
      "text/plain": [
       "<class 'statsmodels.iolib.table.SimpleTable'>"
      ]
     },
     "execution_count": 8,
     "metadata": {},
     "output_type": "execute_result"
    }
   ],
   "source": [
    "# Répétition du calcul de l'ANOVA sur la variables explicative 'country' sur la variable 'income'\n",
    "anova_ln_income = smf.ols('ln_income ~ country', data = df_500).fit(alpha=alpha)\n",
    "anova_ln_income.summary().tables[0]"
   ]
  },
  {
   "cell_type": "code",
   "execution_count": 9,
   "id": "3e995cd3",
   "metadata": {},
   "outputs": [
    {
     "data": {
      "text/html": [
       "<div>\n",
       "<style scoped>\n",
       "    .dataframe tbody tr th:only-of-type {\n",
       "        vertical-align: middle;\n",
       "    }\n",
       "\n",
       "    .dataframe tbody tr th {\n",
       "        vertical-align: top;\n",
       "    }\n",
       "\n",
       "    .dataframe thead th {\n",
       "        text-align: right;\n",
       "    }\n",
       "</style>\n",
       "<table border=\"1\" class=\"dataframe\">\n",
       "  <thead>\n",
       "    <tr style=\"text-align: right;\">\n",
       "      <th></th>\n",
       "      <th>sum_sq</th>\n",
       "      <th>df</th>\n",
       "      <th>F</th>\n",
       "      <th>PR(&gt;F)</th>\n",
       "    </tr>\n",
       "  </thead>\n",
       "  <tbody>\n",
       "    <tr>\n",
       "      <th>country</th>\n",
       "      <td>2.019376e+06</td>\n",
       "      <td>115.0</td>\n",
       "      <td>34026.516957</td>\n",
       "      <td>0.0</td>\n",
       "    </tr>\n",
       "    <tr>\n",
       "      <th>Residual</th>\n",
       "      <td>7.482298e+05</td>\n",
       "      <td>1449884.0</td>\n",
       "      <td>NaN</td>\n",
       "      <td>NaN</td>\n",
       "    </tr>\n",
       "  </tbody>\n",
       "</table>\n",
       "</div>"
      ],
      "text/plain": [
       "                sum_sq         df             F  PR(>F)\n",
       "country   2.019376e+06      115.0  34026.516957     0.0\n",
       "Residual  7.482298e+05  1449884.0           NaN     NaN"
      ]
     },
     "execution_count": 9,
     "metadata": {},
     "output_type": "execute_result"
    }
   ],
   "source": [
    "# Test de Fisher qui va nous aider à comparer les variances de nos deux variables\n",
    "sm.stats.anova_lm(anova_ln_income, typ=2)"
   ]
  },
  {
   "cell_type": "markdown",
   "id": "3ba43b50",
   "metadata": {},
   "source": [
    "En ayant logarithmé notre 'income'(revenus) cette fois la variance est expliqué à hauteur de 73% tout en conservant une P-value de 0.0%."
   ]
  },
  {
   "cell_type": "markdown",
   "id": "66b00648",
   "metadata": {},
   "source": [
    "### Régression linéaire"
   ]
  },
  {
   "cell_type": "markdown",
   "id": "efca3f75",
   "metadata": {},
   "source": [
    "Réalisons une régression linéaire sur nos données mais cette fois en ayant 2 variables explicatives l'indice de Gini et le revenus moyen du pays. Tout en comparant nos deux variables dépendantes 'income' & 'ln_income'."
   ]
  },
  {
   "cell_type": "code",
   "execution_count": 10,
   "id": "4287a9f6",
   "metadata": {},
   "outputs": [
    {
     "data": {
      "text/html": [
       "<table class=\"simpletable\">\n",
       "<caption>OLS Regression Results</caption>\n",
       "<tr>\n",
       "  <th>Dep. Variable:</th>         <td>income</td>      <th>  R-squared:         </th>  <td>   0.497</td>  \n",
       "</tr>\n",
       "<tr>\n",
       "  <th>Model:</th>                   <td>OLS</td>       <th>  Adj. R-squared:    </th>  <td>   0.497</td>  \n",
       "</tr>\n",
       "<tr>\n",
       "  <th>Method:</th>             <td>Least Squares</td>  <th>  F-statistic:       </th>  <td>7.152e+05</td> \n",
       "</tr>\n",
       "<tr>\n",
       "  <th>Date:</th>             <td>Fri, 18 Mar 2022</td> <th>  Prob (F-statistic):</th>   <td>  0.00</td>   \n",
       "</tr>\n",
       "<tr>\n",
       "  <th>Time:</th>                 <td>18:08:21</td>     <th>  Log-Likelihood:    </th> <td>-1.4827e+07</td>\n",
       "</tr>\n",
       "<tr>\n",
       "  <th>No. Observations:</th>      <td>1450000</td>     <th>  AIC:               </th>  <td>2.965e+07</td> \n",
       "</tr>\n",
       "<tr>\n",
       "  <th>Df Residuals:</th>          <td>1449997</td>     <th>  BIC:               </th>  <td>2.965e+07</td> \n",
       "</tr>\n",
       "<tr>\n",
       "  <th>Df Model:</th>              <td>     2</td>      <th>                     </th>      <td> </td>     \n",
       "</tr>\n",
       "<tr>\n",
       "  <th>Covariance Type:</th>      <td>nonrobust</td>    <th>                     </th>      <td> </td>     \n",
       "</tr>\n",
       "</table>"
      ],
      "text/plain": [
       "<class 'statsmodels.iolib.table.SimpleTable'>"
      ]
     },
     "execution_count": 10,
     "metadata": {},
     "output_type": "execute_result"
    }
   ],
   "source": [
    "# Création du modèle de régression linéaire avec la variable 'income'\n",
    "lineaire_income = smf.ols('income ~ Gj + mj', data = df_500).fit(alpha=alpha)\n",
    "lineaire_income.summary().tables[0]"
   ]
  },
  {
   "cell_type": "markdown",
   "id": "99011612",
   "metadata": {},
   "source": [
    "Toujours le même résultat de variance expliquée à hauteur d'environ ~50%, voyons avec un graphique notre modèle de regression linéaire."
   ]
  },
  {
   "cell_type": "code",
   "execution_count": 11,
   "id": "f91b6fda",
   "metadata": {},
   "outputs": [
    {
     "data": {
      "image/png": "[encoded data removed]",
      "text/plain": [
       "<Figure size 864x576 with 1 Axes>"
      ]
     },
     "metadata": {},
     "output_type": "display_data"
    }
   ],
   "source": [
    "# Visualisation de notre régression linéaire \n",
    "fig, ax = plt.subplots(figsize=(12,8))\n",
    "fig = sm.graphics.plot_ccpr(lineaire_income, 'mj', ax=ax)\n",
    "plt.show()"
   ]
  },
  {
   "cell_type": "markdown",
   "id": "45a9e029",
   "metadata": {},
   "source": [
    "Comparons dorénavant ce premier modèle avec le deuxième logarithmé."
   ]
  },
  {
   "cell_type": "code",
   "execution_count": 12,
   "id": "9a8012a7",
   "metadata": {},
   "outputs": [
    {
     "data": {
      "text/html": [
       "<table class=\"simpletable\">\n",
       "<caption>OLS Regression Results</caption>\n",
       "<tr>\n",
       "  <th>Dep. Variable:</th>        <td>ln_income</td>    <th>  R-squared:         </th>  <td>   0.727</td>  \n",
       "</tr>\n",
       "<tr>\n",
       "  <th>Model:</th>                   <td>OLS</td>       <th>  Adj. R-squared:    </th>  <td>   0.727</td>  \n",
       "</tr>\n",
       "<tr>\n",
       "  <th>Method:</th>             <td>Least Squares</td>  <th>  F-statistic:       </th>  <td>1.933e+06</td> \n",
       "</tr>\n",
       "<tr>\n",
       "  <th>Date:</th>             <td>Fri, 18 Mar 2022</td> <th>  Prob (F-statistic):</th>   <td>  0.00</td>   \n",
       "</tr>\n",
       "<tr>\n",
       "  <th>Time:</th>                 <td>18:08:27</td>     <th>  Log-Likelihood:    </th> <td>-1.5841e+06</td>\n",
       "</tr>\n",
       "<tr>\n",
       "  <th>No. Observations:</th>      <td>1450000</td>     <th>  AIC:               </th>  <td>3.168e+06</td> \n",
       "</tr>\n",
       "<tr>\n",
       "  <th>Df Residuals:</th>          <td>1449997</td>     <th>  BIC:               </th>  <td>3.168e+06</td> \n",
       "</tr>\n",
       "<tr>\n",
       "  <th>Df Model:</th>              <td>     2</td>      <th>                     </th>      <td> </td>     \n",
       "</tr>\n",
       "<tr>\n",
       "  <th>Covariance Type:</th>      <td>nonrobust</td>    <th>                     </th>      <td> </td>     \n",
       "</tr>\n",
       "</table>"
      ],
      "text/plain": [
       "<class 'statsmodels.iolib.table.SimpleTable'>"
      ]
     },
     "execution_count": 12,
     "metadata": {},
     "output_type": "execute_result"
    }
   ],
   "source": [
    "# Changeons nos valeurs de la variables 'mj' pour qu'elles soient logarithmé\n",
    "df_500['ln_mj'] = np.log(df_500['mj'])\n",
    "\n",
    "# réduction du chiffre après la virgule et du type de nos valeurs car mon pc n'est pas assez puissant\n",
    "df_500['ln_mj'] = df_500['ln_mj'].apply(lambda x: round(x, 1)).astype(np.float32)\n",
    "\n",
    "# Création du modèle de régression linéaire avec la variable 'ln_mj'\n",
    "lineaire_ln_income = smf.ols('ln_income ~ Gj + ln_mj', data = df_500).fit(alpha=alpha)\n",
    "lineaire_ln_income.summary().tables[0]"
   ]
  },
  {
   "cell_type": "markdown",
   "id": "4572f117",
   "metadata": {},
   "source": [
    "Comme pour le premier modèle le résultat de notre régression reste la même que pour notre ANOVA qui nous permet d'expliquer 73% de la variance. Ce qui reste supérieur à notre premier modèle."
   ]
  },
  {
   "cell_type": "code",
   "execution_count": 13,
   "id": "73e5d3ba",
   "metadata": {},
   "outputs": [
    {
     "data": {
      "image/png": "[encoded data removed]",
      "text/plain": [
       "<Figure size 864x576 with 1 Axes>"
      ]
     },
     "metadata": {},
     "output_type": "display_data"
    }
   ],
   "source": [
    "# Visualisation de notre régressions sur la variance de nos individus\n",
    "fig, ax = plt.subplots(figsize=(12,8))\n",
    "fig = sm.graphics.plot_ccpr(lineaire_ln_income, 'ln_mj', ax=ax)\n",
    "plt.show()"
   ]
  },
  {
   "cell_type": "markdown",
   "id": "49926e2f",
   "metadata": {},
   "source": [
    "#### Pour la suite du projet nous allons continuer nos analyse à partir du modèle 2 (logarithmé) car ce modèle est plus performant que le 1er."
   ]
  },
  {
   "cell_type": "markdown",
   "id": "70f2ab14",
   "metadata": {},
   "source": [
    "### Décomposition de la variance totale expliquée"
   ]
  },
  {
   "cell_type": "markdown",
   "id": "bde0c3ae",
   "metadata": {},
   "source": [
    "La décomposition de la variance est formulé comme : Somme des Carrées Totaux = Somme des Carrées Expliquée + Somme des Carrées Résiduelle => SCT = SCE + SCR"
   ]
  },
  {
   "cell_type": "code",
   "execution_count": 14,
   "id": "67420227",
   "metadata": {},
   "outputs": [
    {
     "data": {
      "text/html": [
       "<div>\n",
       "<style scoped>\n",
       "    .dataframe tbody tr th:only-of-type {\n",
       "        vertical-align: middle;\n",
       "    }\n",
       "\n",
       "    .dataframe tbody tr th {\n",
       "        vertical-align: top;\n",
       "    }\n",
       "\n",
       "    .dataframe thead th {\n",
       "        text-align: right;\n",
       "    }\n",
       "</style>\n",
       "<table border=\"1\" class=\"dataframe\">\n",
       "  <thead>\n",
       "    <tr style=\"text-align: right;\">\n",
       "      <th></th>\n",
       "      <th>sum_sq</th>\n",
       "      <th>df</th>\n",
       "      <th>F</th>\n",
       "      <th>PR(&gt;F)</th>\n",
       "    </tr>\n",
       "  </thead>\n",
       "  <tbody>\n",
       "    <tr>\n",
       "      <th>Gj</th>\n",
       "      <td>2.442130e+04</td>\n",
       "      <td>1.0</td>\n",
       "      <td>4.691619e+04</td>\n",
       "      <td>0.0</td>\n",
       "    </tr>\n",
       "    <tr>\n",
       "      <th>ln_mj</th>\n",
       "      <td>1.709944e+06</td>\n",
       "      <td>1.0</td>\n",
       "      <td>3.285004e+06</td>\n",
       "      <td>0.0</td>\n",
       "    </tr>\n",
       "    <tr>\n",
       "      <th>Residual</th>\n",
       "      <td>7.547676e+05</td>\n",
       "      <td>1449997.0</td>\n",
       "      <td>NaN</td>\n",
       "      <td>NaN</td>\n",
       "    </tr>\n",
       "  </tbody>\n",
       "</table>\n",
       "</div>"
      ],
      "text/plain": [
       "                sum_sq         df             F  PR(>F)\n",
       "Gj        2.442130e+04        1.0  4.691619e+04     0.0\n",
       "ln_mj     1.709944e+06        1.0  3.285004e+06     0.0\n",
       "Residual  7.547676e+05  1449997.0           NaN     NaN"
      ]
     },
     "execution_count": 14,
     "metadata": {},
     "output_type": "execute_result"
    }
   ],
   "source": [
    "decomp_ln_linear = sms.anova_lm(lineaire_ln_income, typ=2)\n",
    "decomp_ln_linear"
   ]
  },
  {
   "cell_type": "code",
   "execution_count": 15,
   "id": "f6deba19",
   "metadata": {},
   "outputs": [
    {
     "name": "stdout",
     "output_type": "stream",
     "text": [
      "SCT = 2489133.2839020677\n",
      "SCE = 1734365.6970726785\n",
      "SCR = 754767.5868293892\n",
      "R² = 0.6967749410163426\n",
      "La variable 'ln_mj' explique : 0.687% de la variance\n",
      "La variable 'Gj' explique : 0.01% de la variance\n",
      "Les résidus explique : 0.303% de la variance\n"
     ]
    }
   ],
   "source": [
    "#SCT\n",
    "print('SCT = ' + str(decomp_ln_linear.values[:,0].sum()))\n",
    "\n",
    "#SCE\n",
    "print('SCE = ' + str(decomp_ln_linear.values[0,0] + decomp_ln_linear.values[1,0]))\n",
    "\n",
    "#SCR\n",
    "print('SCR = ' + str(decomp_ln_linear.values[2,0]))\n",
    "\n",
    "#R2 squared\n",
    "print('R² = ' + str((decomp_ln_linear.values[0,0] + decomp_ln_linear.values[1,0]) / decomp_ln_linear.values[:,0].sum()))\n",
    "\n",
    "#Variance expliquée par le revenu moyen du pays (ln_mj)\n",
    "print(\"La variable 'ln_mj' explique : {}% de la variance\".format(round(sm.stats.anova_lm(lineaire_ln_income, typ=2).values[1,0] / decomp_ln_linear.values[:,0].sum(), 3)))\n",
    "\n",
    "#Variance expliquée par l'indice de Gini\n",
    "print(\"La variable 'Gj' explique : {}% de la variance\".format(round(sm.stats.anova_lm(lineaire_ln_income, typ=2).values[0,0] / decomp_ln_linear.values[:,0].sum(), 3)))\n",
    "\n",
    "#Les résidus\n",
    "print(\"Les résidus explique : {}% de la variance\".format(round(sm.stats.anova_lm(lineaire_ln_income, typ=2).values[2,0] / decomp_ln_linear.values[:,0].sum(), 3)))"
   ]
  },
  {
   "cell_type": "markdown",
   "id": "91c93685",
   "metadata": {},
   "source": [
    "## Analyse de nos résidus pour pouvoir valider notre modèle"
   ]
  },
  {
   "cell_type": "markdown",
   "id": "2e99d614",
   "metadata": {},
   "source": [
    "Nous cherchons à savoir si nos résidus suivent une loi normale ou non"
   ]
  },
  {
   "cell_type": "code",
   "execution_count": 16,
   "id": "4475121b",
   "metadata": {},
   "outputs": [
    {
     "data": {
      "text/plain": [
       "0.4965978247097701"
      ]
     },
     "execution_count": 16,
     "metadata": {},
     "output_type": "execute_result"
    }
   ],
   "source": [
    "from sklearn import linear_model\n",
    "\n",
    "# Employons une régression lineaire sur notre modèle sans échelle logarithme\n",
    "X = df_500[['mj', 'Gj']]\n",
    "y = df_500['income']\n",
    "\n",
    "model_500 = linear_model.LinearRegression().fit(X, y)\n",
    "model_500.score(X, y)"
   ]
  },
  {
   "cell_type": "code",
   "execution_count": 17,
   "id": "db12fd74",
   "metadata": {},
   "outputs": [
    {
     "data": {
      "text/plain": [
       "0.727284974180189"
      ]
     },
     "execution_count": 17,
     "metadata": {},
     "output_type": "execute_result"
    }
   ],
   "source": [
    "# Employons une régression lineaire sur notre modèle logarithmé\n",
    "X_ln = df_500[['ln_mj', 'Gj']]\n",
    "y_ln = df_500['ln_income']\n",
    "\n",
    "model_ln_500 = linear_model.LinearRegression().fit(X_ln, y_ln)\n",
    "model_ln_500.score(X_ln, y_ln)"
   ]
  },
  {
   "cell_type": "markdown",
   "id": "dcce7aa1",
   "metadata": {},
   "source": [
    "Le modèle logarithmé est plus performant avec ~73% de la variance expliqué contre ~50% pour le premier modèle"
   ]
  },
  {
   "cell_type": "code",
   "execution_count": 18,
   "id": "9e75b8c7",
   "metadata": {},
   "outputs": [
    {
     "data": {
      "image/png": "[encoded data removed]",
      "text/plain": [
       "<Figure size 1440x720 with 2 Axes>"
      ]
     },
     "metadata": {},
     "output_type": "display_data"
    }
   ],
   "source": [
    "# Représentation graphique de la distribution de nos résidus\n",
    "#Visualisation de la normalité des résidus : \n",
    "plt.figure(figsize=(20,10))\n",
    "\n",
    "plt.subplot(121)\n",
    "plt.hist(lineaire_income.resid, density=True)\n",
    "plt.xlabel('Valeurs résiduelles', fontsize=15, fontweight='bold')\n",
    "plt.ylabel('Nombre de résidus', fontsize=15, fontweight='bold')\n",
    "plt.title('Histogramme Résidus du Modèle sans Log', fontsize=20, fontweight='bold')\n",
    "\n",
    "plt.subplot(122)\n",
    "plt.hist(lineaire_ln_income.resid, density=True)\n",
    "plt.xlabel('Valeurs résiduelles', fontsize=15, fontweight='bold')\n",
    "plt.ylabel('Nombre de résidus', fontsize=15, fontweight='bold')\n",
    "plt.title('Histogramme Résidus du Modèle Logarithmé', fontsize=20, fontweight='bold')\n",
    "\n",
    "plt.savefig('Graphs/residus_distribution_model_ln_500.jpg')\n",
    "plt.show()"
   ]
  },
  {
   "cell_type": "markdown",
   "id": "11e19759",
   "metadata": {},
   "source": [
    "Visuellement la distribution du modèle logarithmé ressemble plus à une distribution dites normale(qui suit une loi normale) que celui qui n'est pas à une échelle logarithmé. Vérifions ça dans le prochain point."
   ]
  },
  {
   "cell_type": "markdown",
   "id": "b46b45e7",
   "metadata": {},
   "source": [
    "### Droite de Henry"
   ]
  },
  {
   "cell_type": "markdown",
   "id": "17c3a3c5",
   "metadata": {},
   "source": [
    "Le graphique qqplot permet de vérifier la compatibilité de deux distributions. Dans notre cas, nous confrontons la distribution empirique des résidus avec la distribution théorique de la loi normale. On parle aussi de Droite de Henry. L’hypothèse nulle (normalité) est rejetée si la série de points s’écarte manifestement de la diagonale."
   ]
  },
  {
   "cell_type": "code",
   "execution_count": 19,
   "id": "cbccffc6",
   "metadata": {},
   "outputs": [
    {
     "data": {
      "image/png": "[encoded data removed]",
      "text/plain": [
       "<Figure size 1152x576 with 2 Axes>"
      ]
     },
     "metadata": {},
     "output_type": "display_data"
    }
   ],
   "source": [
    "# Visualisation de la droite de Henry sur nos résidus\n",
    "fig = plt.figure(figsize=(16,8))\n",
    "\n",
    "# Calcul des résidus des valeur observé par rapport au variables prédite par notre régression linéaire\n",
    "residus_sans_log = anova_income.get_influence().resid_studentized_internal\n",
    "residus_avec_log = anova_ln_income.get_influence().resid_studentized_internal\n",
    "\n",
    "plt.subplot(121)\n",
    "QQ_sans_log = stats.probplot(residus_sans_log, plot = plt)\n",
    "plt.title('Q-Q Plot des résidus sans log')\n",
    "\n",
    "plt.subplot(122)\n",
    "QQ_avec_log = stats.probplot(residus_avec_log, plot = plt)\n",
    "plt.title('Q-Q Plot des résidus avec log')\n",
    "\n",
    "plt.savefig('Graphs/QQplot_résidus')\n",
    "plt.show()"
   ]
  },
  {
   "cell_type": "markdown",
   "id": "5e60934c",
   "metadata": {},
   "source": [
    "Le graphique QQ-Plot démontre que nos résidus logarithmé ont plus de facilité à suivre une loi normale que ceux non logarithmé."
   ]
  },
  {
   "cell_type": "markdown",
   "id": "2d7bc5fe",
   "metadata": {},
   "source": [
    "### Test de Kolmogorov-Smirnov pour savoir si nos résidus suivent une loi normale"
   ]
  },
  {
   "cell_type": "markdown",
   "id": "2122a25e",
   "metadata": {},
   "source": [
    "Pour continuer nos tests statistiques commençons par émettre nos hypothèses :\n",
    "   - H0 : Nos données suivent bien une loi normale < alpha = 0.05\n",
    "   - H1 : Nos données ne suivent pas une loi normale > alpha = 0.05\n",
    "        \n",
    "\n",
    "Grâce à cela nous allons pouvoir réaliser nos tests et savoir si nos P-Value est supérieur ou non à notre seuil alpha."
   ]
  },
  {
   "cell_type": "code",
   "execution_count": 20,
   "id": "1a48a3d7",
   "metadata": {},
   "outputs": [
    {
     "data": {
      "text/plain": [
       "KstestResult(statistic=0.24630932260307492, pvalue=0.0)"
      ]
     },
     "execution_count": 20,
     "metadata": {},
     "output_type": "execute_result"
    }
   ],
   "source": [
    "# Vérifions la normalité des résidus de notre valeur non logarithmé\n",
    "# Importation de la librairie nécessaire au test\n",
    "from scipy.stats import ks_2samp\n",
    "\n",
    "# Création des variables stockés les informations nécessaires au test du modèle non logaritmé\n",
    "X_income = lineaire_income.resid\n",
    "X_bar = X_income.mean()\n",
    "Xsprime = X_income.std()\n",
    "\n",
    "# Test de Kolmogorov-Smirnov car notre échantillon est plutôt volumineux (1.124.113 d'individus)\n",
    "ks_2samp(lineaire_income.resid, list(np.random.normal(X_bar, Xsprime, 1_124_113)))"
   ]
  },
  {
   "cell_type": "code",
   "execution_count": 21,
   "id": "b4cdb742",
   "metadata": {},
   "outputs": [
    {
     "data": {
      "text/plain": [
       "KstestResult(statistic=0.037237108666551166, pvalue=0.0)"
      ]
     },
     "execution_count": 21,
     "metadata": {},
     "output_type": "execute_result"
    }
   ],
   "source": [
    "# Création des variables stockés les informations nécessaires au test du modèle logaritmé\n",
    "X_ln_income = lineaire_ln_income.resid\n",
    "X_ln_bar = X_ln_income.mean()\n",
    "X_ln_sprime = X_ln_income.std()\n",
    "\n",
    "# Test de Kolmogorov-Smirnov car notre échantillon est plutôt volumineux (1.124.113 d'individus)\n",
    "ks_2samp(lineaire_ln_income.resid, list(np.random.normal(X_ln_bar, X_ln_sprime, 1_124_113)))"
   ]
  },
  {
   "cell_type": "markdown",
   "id": "7779520d",
   "metadata": {},
   "source": [
    "Notre pvalue est inférieur à 0.05%, ce qui nous fait rejeter notre hypothèse H0.\n",
    "\n",
    "Certes nos données ne suivent pas une loi normale parfaite, néanmoins comme vu sur les précédent graphiques nos données ne sont pas absurdes et peuvent-être utilisé."
   ]
  },
  {
   "cell_type": "markdown",
   "id": "12dbae28",
   "metadata": {},
   "source": [
    "### Test de Colinéarité"
   ]
  },
  {
   "cell_type": "markdown",
   "id": "912b51cc",
   "metadata": {},
   "source": [
    "Vérification d'une évantuelle colinéarité de nos variables, savoir si 2 variables explicatives expliques-t-elle la même variance ou non."
   ]
  },
  {
   "cell_type": "code",
   "execution_count": 22,
   "id": "1048107c",
   "metadata": {},
   "outputs": [],
   "source": [
    "# Importation de la librairie\n",
    "from statsmodels.stats.outliers_influence import variance_inflation_factor "
   ]
  },
  {
   "cell_type": "code",
   "execution_count": 23,
   "id": "ee2266b2",
   "metadata": {},
   "outputs": [
    {
     "data": {
      "text/plain": [
       "[1.1589186065015578, 1.1589186065015555]"
      ]
     },
     "execution_count": 23,
     "metadata": {},
     "output_type": "execute_result"
    }
   ],
   "source": [
    "# Vérification d'une possible colinéarité de nos variables sur le modèle non logaritmé\n",
    "variables = lineaire_income.model.exog\n",
    "[variance_inflation_factor(variables, i) for i in np.arange(1,variables.shape[1])]"
   ]
  },
  {
   "cell_type": "code",
   "execution_count": 24,
   "id": "c6d4ce50",
   "metadata": {},
   "outputs": [
    {
     "data": {
      "text/plain": [
       "[1.08775538583335, 1.0877553858333509]"
      ]
     },
     "execution_count": 24,
     "metadata": {},
     "output_type": "execute_result"
    }
   ],
   "source": [
    "# Vérification d'une possible colinéarité de nos variables sur le modèle non logaritmé\n",
    "variables = lineaire_ln_income.model.exog\n",
    "[variance_inflation_factor(variables, i) for i in np.arange(1,variables.shape[1])]"
   ]
  },
  {
   "cell_type": "markdown",
   "id": "bde23f2f",
   "metadata": {},
   "source": [
    "Notre test de colinéarité est négatif. Nos coefficients sont en dessous de 10, même de 5."
   ]
  },
  {
   "cell_type": "markdown",
   "id": "7a6e09b1",
   "metadata": {},
   "source": [
    "### Test d'Homoscédasticité"
   ]
  },
  {
   "cell_type": "markdown",
   "id": "34ceffc8",
   "metadata": {},
   "source": [
    "Ce test va nous permettre de savoir si nos variables explicatives ont un effet significatif sur la variable à expliquer. Dans ce cas, la variance de l'erreur est constante pour toutes les estimations."
   ]
  },
  {
   "cell_type": "code",
   "execution_count": 25,
   "id": "08f8650e",
   "metadata": {},
   "outputs": [
    {
     "name": "stdout",
     "output_type": "stream",
     "text": [
      "Modèle non logarithmé p value test Breusch-Pagan: 0.0\n",
      "Modèle logarithmé p value test Breusch-Pagan: 0.0\n"
     ]
    }
   ],
   "source": [
    "__, pval, __, f_pval = sms.het_breuschpagan(lineaire_income.resid, lineaire_income.model.exog)\n",
    "print('Modèle non logarithmé p value test Breusch-Pagan:', pval)\n",
    "\n",
    "__, pval, __, f_pval = sms.het_breuschpagan(lineaire_ln_income.resid, lineaire_ln_income.model.exog)\n",
    "print('Modèle logarithmé p value test Breusch-Pagan:', pval)"
   ]
  },
  {
   "cell_type": "markdown",
   "id": "2a420e11",
   "metadata": {},
   "source": [
    "H0 = Homoscédasticité\n",
    "H1 = Hétéroscédasticité\n",
    "\n",
    "pvalue < 0.05 alors nous rejettons l'hypothèse H0, il y a hétéroscédasticité des résidus, c-à-d que la variance des résidus dans nos variables sont différentes et non constante."
   ]
  },
  {
   "cell_type": "markdown",
   "id": "4908e2a2",
   "metadata": {},
   "source": [
    "### Points atypiques et influents"
   ]
  },
  {
   "cell_type": "markdown",
   "id": "0db27912",
   "metadata": {},
   "source": [
    "Les points influents correspondent aux observations qui pèsent significativement, voire exagérément, sur les calculs. Ils déterminent, dans une proportion à évaluer, les résultats de la régression. Il convient de les considérer avec précaution au moins pour interpréter correctement les coefficients obtenus. Dans certains cas, on peut considérer qu’une observation pèse trop sur la régression au point d’altérer les paramètres estimés.\n",
    "\n",
    "Les tests se feront à hauteur d'alpha = 5%\n",
    "\n",
    "n étant le nombres d'individus dans mon échantillon et p le nombre de variable dans ma régression."
   ]
  },
  {
   "cell_type": "code",
   "execution_count": 26,
   "id": "58939a8f",
   "metadata": {},
   "outputs": [],
   "source": [
    "# Stockage de nos paramètre\n",
    "alpha = 0.05\n",
    "n = len(df_500)\n",
    "p = 3\n",
    "\n",
    "# Création d'une copie de notre dataframe\n",
    "df_500_copy = df_500.copy()"
   ]
  },
  {
   "cell_type": "markdown",
   "id": "8fd77d62",
   "metadata": {},
   "source": [
    "### Analyse des leviers avec seuil"
   ]
  },
  {
   "cell_type": "markdown",
   "id": "c38b18cd",
   "metadata": {},
   "source": [
    "Le seuil des leviers est de 2 * p/n\n",
    "Il est importants de savoir quelles observations peuvent fausser le résultats de la régression."
   ]
  },
  {
   "cell_type": "code",
   "execution_count": 27,
   "id": "32fd2bf7",
   "metadata": {},
   "outputs": [],
   "source": [
    "# Stockage du paramètre du seuil\n",
    "seuil = 2*p/n"
   ]
  },
  {
   "cell_type": "code",
   "execution_count": 28,
   "id": "58dbd0f6",
   "metadata": {},
   "outputs": [],
   "source": [
    "# Création d'une variable qui va stocker le résultat d'évantuelle individus qui pourrait fausser notre régression\n",
    "df_500_copy['levier_non_log'] = lineaire_income.get_influence().hat_matrix_diag\n",
    "df_500_copy['levier_log'] = lineaire_ln_income.get_influence().hat_matrix_diag"
   ]
  },
  {
   "cell_type": "code",
   "execution_count": 29,
   "id": "d0f3faa5",
   "metadata": {},
   "outputs": [
    {
     "data": {
      "text/html": [
       "<div>\n",
       "<style scoped>\n",
       "    .dataframe tbody tr th:only-of-type {\n",
       "        vertical-align: middle;\n",
       "    }\n",
       "\n",
       "    .dataframe tbody tr th {\n",
       "        vertical-align: top;\n",
       "    }\n",
       "\n",
       "    .dataframe thead th {\n",
       "        text-align: right;\n",
       "    }\n",
       "</style>\n",
       "<table border=\"1\" class=\"dataframe\">\n",
       "  <thead>\n",
       "    <tr style=\"text-align: right;\">\n",
       "      <th></th>\n",
       "      <th>country</th>\n",
       "      <th>levier_non_log</th>\n",
       "      <th>levier_log</th>\n",
       "    </tr>\n",
       "  </thead>\n",
       "  <tbody>\n",
       "    <tr>\n",
       "      <th>0</th>\n",
       "      <td>Albania</td>\n",
       "      <td>0.000002</td>\n",
       "      <td>0.000001</td>\n",
       "    </tr>\n",
       "    <tr>\n",
       "      <th>1</th>\n",
       "      <td>Argentina</td>\n",
       "      <td>0.000002</td>\n",
       "      <td>0.000003</td>\n",
       "    </tr>\n",
       "    <tr>\n",
       "      <th>2</th>\n",
       "      <td>Armenia</td>\n",
       "      <td>0.000002</td>\n",
       "      <td>0.000002</td>\n",
       "    </tr>\n",
       "    <tr>\n",
       "      <th>3</th>\n",
       "      <td>Austria</td>\n",
       "      <td>0.000002</td>\n",
       "      <td>0.000002</td>\n",
       "    </tr>\n",
       "    <tr>\n",
       "      <th>4</th>\n",
       "      <td>Azerbaijan</td>\n",
       "      <td>0.000002</td>\n",
       "      <td>0.000001</td>\n",
       "    </tr>\n",
       "  </tbody>\n",
       "</table>\n",
       "</div>"
      ],
      "text/plain": [
       "      country  levier_non_log  levier_log\n",
       "0     Albania        0.000002    0.000001\n",
       "1   Argentina        0.000002    0.000003\n",
       "2     Armenia        0.000002    0.000002\n",
       "3     Austria        0.000002    0.000002\n",
       "4  Azerbaijan        0.000002    0.000001"
      ]
     },
     "execution_count": 29,
     "metadata": {},
     "output_type": "execute_result"
    }
   ],
   "source": [
    "# Reduction de nos individus par pays pour un calcul plus rapide et une visualisation plus rapide\n",
    "df_500_copy_levier = df_500_copy.groupby('country')[['country', 'levier_non_log', 'levier_log']].mean().reset_index()\n",
    "df_500_copy_levier.head()"
   ]
  },
  {
   "cell_type": "code",
   "execution_count": 30,
   "id": "d47d671d",
   "metadata": {},
   "outputs": [
    {
     "data": {
      "image/png": "[encoded data removed]",
      "text/plain": [
       "<Figure size 1584x720 with 2 Axes>"
      ]
     },
     "metadata": {},
     "output_type": "display_data"
    }
   ],
   "source": [
    "#Visualisation des leviers du Modèle non logarithmé par pays avec représentation du seuil\n",
    "plt.figure(figsize=(22,10))\n",
    "\n",
    "plt.subplot(121)\n",
    "plt.bar(df_500_copy_levier.loc[df_500_copy_levier['levier_non_log'] <= seuil]['country'].index,\n",
    "        df_500_copy_levier.loc[df_500_copy_levier['levier_non_log'] <= seuil]['levier_non_log'], color='b')\n",
    "plt.bar(df_500_copy_levier.loc[df_500_copy_levier['levier_non_log'] > seuil]['country'].index,\n",
    "        df_500_copy_levier.loc[df_500_copy_levier['levier_non_log'] > seuil]['levier_non_log'], color='r')\n",
    "plt.plot([0, 116], [seuil, seuil], color='y')\n",
    "\n",
    "plt.xlabel('Observation Pays', fontsize=15, fontweight='bold')\n",
    "plt.ylabel('Levier non Log', fontsize=15, fontweight='bold')\n",
    "plt.title('Analyse graphique des leviers du Modèle non Logarithmé > seuil', fontsize=16, fontweight='bold')\n",
    "\n",
    "plt.subplot(122)\n",
    "plt.bar(df_500_copy_levier.loc[df_500_copy_levier['levier_log'] <= seuil]['country'].index,\n",
    "        df_500_copy_levier.loc[df_500_copy_levier['levier_log'] <= seuil]['levier_log'], color='b')\n",
    "plt.bar(df_500_copy_levier.loc[df_500_copy_levier['levier_log'] > seuil]['country'].index,\n",
    "        df_500_copy_levier.loc[df_500_copy_levier['levier_log'] > seuil]['levier_log'], color='r')\n",
    "plt.plot([0, 116], [seuil, seuil], color='y')\n",
    "\n",
    "plt.xlabel('Observation Pays', fontsize=15, fontweight='bold')\n",
    "plt.ylabel('Levier non Log', fontsize=15, fontweight='bold')\n",
    "plt.title('Analyse graphique des leviers du Modèle Logarithmé > seuil', fontsize=16, fontweight='bold')\n",
    "\n",
    "plt.savefig('Graphs/levier_model1.jpg')\n",
    "plt.show()"
   ]
  },
  {
   "cell_type": "markdown",
   "id": "e3d11e22",
   "metadata": {},
   "source": [
    "A première vu le modèle logarithmé est encore le plus intérressant, observons les pays qui sort de notre seuil."
   ]
  },
  {
   "cell_type": "code",
   "execution_count": 31,
   "id": "d3144c21",
   "metadata": {},
   "outputs": [
    {
     "name": "stdout",
     "output_type": "stream",
     "text": [
      "Les pays qui ont un seuil trop élevé dans notre modèle non logaritmé\n"
     ]
    },
    {
     "data": {
      "text/plain": [
       "16              Canada\n",
       "17     Central African\n",
       "20            Colombia\n",
       "39           Guatemala\n",
       "41            Honduras\n",
       "43             Iceland\n",
       "61          Luxembourg\n",
       "77              Norway\n",
       "93        South Africa\n",
       "109     United Kingdom\n",
       "111      United States\n",
       "Name: country, dtype: object"
      ]
     },
     "metadata": {},
     "output_type": "display_data"
    },
    {
     "name": "stdout",
     "output_type": "stream",
     "text": [
      "------------------------------\n",
      "Les pays qui ont un seuil trop élevé dans notre modèle logaritmé\n"
     ]
    },
    {
     "data": {
      "text/plain": [
       "17    Central African\n",
       "20           Colombia\n",
       "39          Guatemala\n",
       "41           Honduras\n",
       "93       South Africa\n",
       "Name: country, dtype: object"
      ]
     },
     "metadata": {},
     "output_type": "display_data"
    }
   ],
   "source": [
    "print(\"Les pays qui ont un seuil trop élevé dans notre modèle non logaritmé\")\n",
    "display(df_500_copy_levier[df_500_copy_levier['levier_non_log'] > seuil]['country'])\n",
    "print('------------------------------')\n",
    "print(\"Les pays qui ont un seuil trop élevé dans notre modèle logaritmé\")\n",
    "display(df_500_copy_levier[df_500_copy_levier['levier_log'] > seuil]['country'])"
   ]
  },
  {
   "cell_type": "code",
   "execution_count": 32,
   "id": "d139b236",
   "metadata": {},
   "outputs": [
    {
     "name": "stdout",
     "output_type": "stream",
     "text": [
      "Modèle 1: 9.48%\n",
      "Modèle 2 (avec log): 4.31%\n"
     ]
    }
   ],
   "source": [
    "#Pourcentage de pays hors seuil levier\n",
    "print(\"Modèle 1: \" + str(round(len(df_500_copy_levier[df_500_copy_levier['levier_non_log'] \n",
    "                    > seuil])/len(df_500_copy_levier['levier_non_log'])*100, 2)) + '%')\n",
    "print(\"Modèle 2 (avec log): \" + str(round(len(df_500_copy_levier[df_500_copy_levier['levier_log'] \n",
    "                    > seuil])/len(df_500_copy_levier['levier_log'])*100, 2)) + '%')"
   ]
  },
  {
   "cell_type": "markdown",
   "id": "c46fc272",
   "metadata": {},
   "source": [
    "Le Modèle 2, avec un R² = 0.728, est globalement significatif à 5%. En comparaison le premier Modèle, sans logarithme, se révèle être moins significatif. Son R² = 0.500 plus faible mais avec le diagnostic des leviers, on constate également qu'un plus grand nombre de pays viennent influencer le Modèle 1 (9.48% contre 4.31% avec le Modèle 2), donc sa performance est moins optimale."
   ]
  },
  {
   "cell_type": "markdown",
   "id": "cb9b9ab6",
   "metadata": {},
   "source": [
    "### Analyse des résidus studentisé"
   ]
  },
  {
   "cell_type": "markdown",
   "id": "416eeb65",
   "metadata": {},
   "source": [
    "Le seuil pour les résidus studentisés est une loi de Student à n-p-1 degrés de liberté.\n",
    "\n",
    "Il est nécessaire d'observer le rôle conjoint du levier et du résidu standardisé."
   ]
  },
  {
   "cell_type": "code",
   "execution_count": 33,
   "id": "b11d82f1",
   "metadata": {},
   "outputs": [],
   "source": [
    "# Création de nouvelles variables qui va stocké le calcul des résidus studentisé\n",
    "df_500_copy['rstudent_non_log'] = lineaire_income.get_influence().resid_studentized_internal\n",
    "df_500_copy['rstudent_log'] = lineaire_ln_income.get_influence().resid_studentized_internal\n",
    "\n",
    "seuil_rstudent = st.t.ppf(1-alpha/2,n-p-1) # n-p-1 est le degré de liberté(ddl)"
   ]
  },
  {
   "cell_type": "code",
   "execution_count": 34,
   "id": "d4d7c7cf",
   "metadata": {},
   "outputs": [
    {
     "data": {
      "text/html": [
       "<div>\n",
       "<style scoped>\n",
       "    .dataframe tbody tr th:only-of-type {\n",
       "        vertical-align: middle;\n",
       "    }\n",
       "\n",
       "    .dataframe tbody tr th {\n",
       "        vertical-align: top;\n",
       "    }\n",
       "\n",
       "    .dataframe thead th {\n",
       "        text-align: right;\n",
       "    }\n",
       "</style>\n",
       "<table border=\"1\" class=\"dataframe\">\n",
       "  <thead>\n",
       "    <tr style=\"text-align: right;\">\n",
       "      <th></th>\n",
       "      <th>country</th>\n",
       "      <th>quantile</th>\n",
       "      <th>mj</th>\n",
       "      <th>income</th>\n",
       "      <th>Gj</th>\n",
       "      <th>pj</th>\n",
       "      <th>y_child</th>\n",
       "      <th>y_parents</th>\n",
       "      <th>c_i_parent</th>\n",
       "      <th>ln_income</th>\n",
       "      <th>ln_mj</th>\n",
       "      <th>levier_non_log</th>\n",
       "      <th>levier_log</th>\n",
       "      <th>rstudent_non_log</th>\n",
       "      <th>rstudent_log</th>\n",
       "    </tr>\n",
       "  </thead>\n",
       "  <tbody>\n",
       "    <tr>\n",
       "      <th>0</th>\n",
       "      <td>Albania</td>\n",
       "      <td>1</td>\n",
       "      <td>2994.800049</td>\n",
       "      <td>728.900024</td>\n",
       "      <td>0.3</td>\n",
       "      <td>0.8</td>\n",
       "      <td>1.432298</td>\n",
       "      <td>2.415606</td>\n",
       "      <td>50.611111</td>\n",
       "      <td>6.6</td>\n",
       "      <td>8.0</td>\n",
       "      <td>0.000002</td>\n",
       "      <td>0.000001</td>\n",
       "      <td>-0.338887</td>\n",
       "      <td>-1.731810</td>\n",
       "    </tr>\n",
       "    <tr>\n",
       "      <th>1</th>\n",
       "      <td>Albania</td>\n",
       "      <td>2</td>\n",
       "      <td>2994.800049</td>\n",
       "      <td>916.700012</td>\n",
       "      <td>0.3</td>\n",
       "      <td>0.8</td>\n",
       "      <td>1.641318</td>\n",
       "      <td>1.565587</td>\n",
       "      <td>50.227642</td>\n",
       "      <td>6.8</td>\n",
       "      <td>8.0</td>\n",
       "      <td>0.000002</td>\n",
       "      <td>0.000001</td>\n",
       "      <td>-0.310769</td>\n",
       "      <td>-1.454600</td>\n",
       "    </tr>\n",
       "    <tr>\n",
       "      <th>2</th>\n",
       "      <td>Albania</td>\n",
       "      <td>3</td>\n",
       "      <td>2994.800049</td>\n",
       "      <td>1010.900024</td>\n",
       "      <td>0.3</td>\n",
       "      <td>0.8</td>\n",
       "      <td>1.564903</td>\n",
       "      <td>1.524433</td>\n",
       "      <td>51.386555</td>\n",
       "      <td>6.9</td>\n",
       "      <td>8.0</td>\n",
       "      <td>0.000002</td>\n",
       "      <td>0.000001</td>\n",
       "      <td>-0.296665</td>\n",
       "      <td>-1.315996</td>\n",
       "    </tr>\n",
       "    <tr>\n",
       "      <th>3</th>\n",
       "      <td>Albania</td>\n",
       "      <td>4</td>\n",
       "      <td>2994.800049</td>\n",
       "      <td>1086.900024</td>\n",
       "      <td>0.3</td>\n",
       "      <td>0.8</td>\n",
       "      <td>1.682787</td>\n",
       "      <td>1.450701</td>\n",
       "      <td>49.268657</td>\n",
       "      <td>7.0</td>\n",
       "      <td>8.0</td>\n",
       "      <td>0.000002</td>\n",
       "      <td>0.000001</td>\n",
       "      <td>-0.285286</td>\n",
       "      <td>-1.177392</td>\n",
       "    </tr>\n",
       "    <tr>\n",
       "      <th>4</th>\n",
       "      <td>Albania</td>\n",
       "      <td>5</td>\n",
       "      <td>2994.800049</td>\n",
       "      <td>1132.699951</td>\n",
       "      <td>0.3</td>\n",
       "      <td>0.8</td>\n",
       "      <td>1.477147</td>\n",
       "      <td>1.735616</td>\n",
       "      <td>52.390977</td>\n",
       "      <td>7.0</td>\n",
       "      <td>8.0</td>\n",
       "      <td>0.000002</td>\n",
       "      <td>0.000001</td>\n",
       "      <td>-0.278429</td>\n",
       "      <td>-1.177392</td>\n",
       "    </tr>\n",
       "    <tr>\n",
       "      <th>...</th>\n",
       "      <td>...</td>\n",
       "      <td>...</td>\n",
       "      <td>...</td>\n",
       "      <td>...</td>\n",
       "      <td>...</td>\n",
       "      <td>...</td>\n",
       "      <td>...</td>\n",
       "      <td>...</td>\n",
       "      <td>...</td>\n",
       "      <td>...</td>\n",
       "      <td>...</td>\n",
       "      <td>...</td>\n",
       "      <td>...</td>\n",
       "      <td>...</td>\n",
       "      <td>...</td>\n",
       "    </tr>\n",
       "    <tr>\n",
       "      <th>11595</th>\n",
       "      <td>Yemen</td>\n",
       "      <td>96</td>\n",
       "      <td>1042.599976</td>\n",
       "      <td>2568.699951</td>\n",
       "      <td>0.4</td>\n",
       "      <td>0.4</td>\n",
       "      <td>1.806617</td>\n",
       "      <td>1.732232</td>\n",
       "      <td>50.283582</td>\n",
       "      <td>7.9</td>\n",
       "      <td>6.9</td>\n",
       "      <td>0.000001</td>\n",
       "      <td>0.000001</td>\n",
       "      <td>0.228857</td>\n",
       "      <td>1.775534</td>\n",
       "    </tr>\n",
       "    <tr>\n",
       "      <th>11596</th>\n",
       "      <td>Yemen</td>\n",
       "      <td>97</td>\n",
       "      <td>1042.599976</td>\n",
       "      <td>2893.899902</td>\n",
       "      <td>0.4</td>\n",
       "      <td>0.4</td>\n",
       "      <td>1.687613</td>\n",
       "      <td>1.993891</td>\n",
       "      <td>52.257576</td>\n",
       "      <td>8.0</td>\n",
       "      <td>6.9</td>\n",
       "      <td>0.000001</td>\n",
       "      <td>0.000001</td>\n",
       "      <td>0.277547</td>\n",
       "      <td>1.914138</td>\n",
       "    </tr>\n",
       "    <tr>\n",
       "      <th>11597</th>\n",
       "      <td>Yemen</td>\n",
       "      <td>98</td>\n",
       "      <td>1042.599976</td>\n",
       "      <td>3307.300049</td>\n",
       "      <td>0.4</td>\n",
       "      <td>0.4</td>\n",
       "      <td>1.828078</td>\n",
       "      <td>1.868695</td>\n",
       "      <td>52.078014</td>\n",
       "      <td>8.1</td>\n",
       "      <td>6.9</td>\n",
       "      <td>0.000001</td>\n",
       "      <td>0.000001</td>\n",
       "      <td>0.339443</td>\n",
       "      <td>2.052743</td>\n",
       "    </tr>\n",
       "    <tr>\n",
       "      <th>11598</th>\n",
       "      <td>Yemen</td>\n",
       "      <td>99</td>\n",
       "      <td>1042.599976</td>\n",
       "      <td>4137.000000</td>\n",
       "      <td>0.4</td>\n",
       "      <td>0.4</td>\n",
       "      <td>1.790308</td>\n",
       "      <td>1.714085</td>\n",
       "      <td>50.333333</td>\n",
       "      <td>8.3</td>\n",
       "      <td>6.9</td>\n",
       "      <td>0.000001</td>\n",
       "      <td>0.000001</td>\n",
       "      <td>0.463670</td>\n",
       "      <td>2.329952</td>\n",
       "    </tr>\n",
       "    <tr>\n",
       "      <th>11599</th>\n",
       "      <td>Yemen</td>\n",
       "      <td>100</td>\n",
       "      <td>1042.599976</td>\n",
       "      <td>9050.400391</td>\n",
       "      <td>0.4</td>\n",
       "      <td>0.4</td>\n",
       "      <td>1.841951</td>\n",
       "      <td>1.547696</td>\n",
       "      <td>49.597122</td>\n",
       "      <td>9.1</td>\n",
       "      <td>6.9</td>\n",
       "      <td>0.000001</td>\n",
       "      <td>0.000001</td>\n",
       "      <td>1.199326</td>\n",
       "      <td>3.438788</td>\n",
       "    </tr>\n",
       "  </tbody>\n",
       "</table>\n",
       "<p>11600 rows × 15 columns</p>\n",
       "</div>"
      ],
      "text/plain": [
       "       country  quantile           mj       income   Gj   pj   y_child  \\\n",
       "0      Albania         1  2994.800049   728.900024  0.3  0.8  1.432298   \n",
       "1      Albania         2  2994.800049   916.700012  0.3  0.8  1.641318   \n",
       "2      Albania         3  2994.800049  1010.900024  0.3  0.8  1.564903   \n",
       "3      Albania         4  2994.800049  1086.900024  0.3  0.8  1.682787   \n",
       "4      Albania         5  2994.800049  1132.699951  0.3  0.8  1.477147   \n",
       "...        ...       ...          ...          ...  ...  ...       ...   \n",
       "11595    Yemen        96  1042.599976  2568.699951  0.4  0.4  1.806617   \n",
       "11596    Yemen        97  1042.599976  2893.899902  0.4  0.4  1.687613   \n",
       "11597    Yemen        98  1042.599976  3307.300049  0.4  0.4  1.828078   \n",
       "11598    Yemen        99  1042.599976  4137.000000  0.4  0.4  1.790308   \n",
       "11599    Yemen       100  1042.599976  9050.400391  0.4  0.4  1.841951   \n",
       "\n",
       "       y_parents  c_i_parent  ln_income  ln_mj  levier_non_log  levier_log  \\\n",
       "0       2.415606   50.611111        6.6    8.0        0.000002    0.000001   \n",
       "1       1.565587   50.227642        6.8    8.0        0.000002    0.000001   \n",
       "2       1.524433   51.386555        6.9    8.0        0.000002    0.000001   \n",
       "3       1.450701   49.268657        7.0    8.0        0.000002    0.000001   \n",
       "4       1.735616   52.390977        7.0    8.0        0.000002    0.000001   \n",
       "...          ...         ...        ...    ...             ...         ...   \n",
       "11595   1.732232   50.283582        7.9    6.9        0.000001    0.000001   \n",
       "11596   1.993891   52.257576        8.0    6.9        0.000001    0.000001   \n",
       "11597   1.868695   52.078014        8.1    6.9        0.000001    0.000001   \n",
       "11598   1.714085   50.333333        8.3    6.9        0.000001    0.000001   \n",
       "11599   1.547696   49.597122        9.1    6.9        0.000001    0.000001   \n",
       "\n",
       "       rstudent_non_log  rstudent_log  \n",
       "0             -0.338887     -1.731810  \n",
       "1             -0.310769     -1.454600  \n",
       "2             -0.296665     -1.315996  \n",
       "3             -0.285286     -1.177392  \n",
       "4             -0.278429     -1.177392  \n",
       "...                 ...           ...  \n",
       "11595          0.228857      1.775534  \n",
       "11596          0.277547      1.914138  \n",
       "11597          0.339443      2.052743  \n",
       "11598          0.463670      2.329952  \n",
       "11599          1.199326      3.438788  \n",
       "\n",
       "[11600 rows x 15 columns]"
      ]
     },
     "execution_count": 34,
     "metadata": {},
     "output_type": "execute_result"
    }
   ],
   "source": [
    "# Simplification de notre dataframe pour une meilleur visiblité\n",
    "df_500_copy_rstudent = df_500_copy.groupby(['country', 'quantile']).mean().reset_index()\n",
    "df_500_copy_rstudent"
   ]
  },
  {
   "cell_type": "code",
   "execution_count": 35,
   "id": "e994a079",
   "metadata": {},
   "outputs": [
    {
     "data": {
      "image/png": "[encoded data removed]",
      "text/plain": [
       "<Figure size 1440x720 with 1 Axes>"
      ]
     },
     "metadata": {},
     "output_type": "display_data"
    }
   ],
   "source": [
    "#Visualisation globale des résidus studentisés du Modèle non logarithmé avec représentation du seuil\n",
    "plt.figure(figsize=(20,10))\n",
    "\n",
    "\n",
    "plt.bar(df_500_copy_rstudent[(df_500_copy_rstudent['rstudent_non_log'] <= seuil_rstudent) & \n",
    "                             (df_500_copy_rstudent['rstudent_non_log'] >= -seuil_rstudent)]['country'].index,\n",
    "        df_500_copy_rstudent[(df_500_copy_rstudent['rstudent_non_log'] <= seuil_rstudent) &\n",
    "                             (df_500_copy_rstudent['rstudent_non_log'] >= -seuil_rstudent)]['rstudent_non_log'], color='b')\n",
    "\n",
    "plt.bar(df_500_copy_rstudent[df_500_copy_rstudent['rstudent_non_log'] > seuil_rstudent]['country'].index, \n",
    "        df_500_copy_rstudent[df_500_copy_rstudent['rstudent_non_log'] > seuil_rstudent]['rstudent_non_log'], color='r')\n",
    "plt.bar(df_500_copy_rstudent[df_500_copy_rstudent['rstudent_non_log'] < -seuil_rstudent]['country'].index, \n",
    "        df_500_copy_rstudent[df_500_copy_rstudent['rstudent_non_log'] < -seuil_rstudent]['rstudent_non_log'], color='r')\n",
    "\n",
    "\n",
    "# Mise en place du seuil studentisé(1.9599), pour délimiter les valeurs qui sort de ce seuil\n",
    "plt.axhline(y=seuil_rstudent, color='y', linestyle='-')\n",
    "plt.axhline(y=-seuil_rstudent, color='y', linestyle='-')\n",
    "\n",
    "plt.xlabel('Observations', fontsize=15)\n",
    "plt.ylabel('Résidus studentisés Modèle non logarithmé', fontsize=15)\n",
    "plt.title('Analyse graphique des résidus studentisés du Modèle non logarithmé', fontsize=20)\n",
    "\n",
    "plt.ylim(-3, 10)\n",
    "plt.savefig('Graphs/residus_studentises_modele_non_logarithmé.jpg')\n",
    "plt.show()"
   ]
  },
  {
   "cell_type": "code",
   "execution_count": 36,
   "id": "0ecfea89",
   "metadata": {},
   "outputs": [
    {
     "data": {
      "image/png": "[encoded data removed]",
      "text/plain": [
       "<Figure size 1440x720 with 1 Axes>"
      ]
     },
     "metadata": {},
     "output_type": "display_data"
    }
   ],
   "source": [
    "#Visualisation globale des résidus studentisés du Modèle logarithmé avec représentation du seuil\n",
    "plt.figure(figsize=(20,10))\n",
    "\n",
    "\n",
    "plt.bar(df_500_copy_rstudent[(df_500_copy_rstudent['rstudent_log'] <= seuil_rstudent) & \n",
    "                             (df_500_copy_rstudent['rstudent_log'] >= -seuil_rstudent)]['country'].index,\n",
    "        df_500_copy_rstudent[(df_500_copy_rstudent['rstudent_log'] <= seuil_rstudent) &\n",
    "                             (df_500_copy_rstudent['rstudent_log'] >= -seuil_rstudent)]['rstudent_log'], color='b')\n",
    "\n",
    "plt.bar(df_500_copy_rstudent[df_500_copy_rstudent['rstudent_log'] > seuil_rstudent]['country'].index, \n",
    "        df_500_copy_rstudent[df_500_copy_rstudent['rstudent_log'] > seuil_rstudent]['rstudent_log'], color='r')\n",
    "plt.bar(df_500_copy_rstudent[df_500_copy_rstudent['rstudent_log'] < -seuil_rstudent]['country'].index, \n",
    "        df_500_copy_rstudent[df_500_copy_rstudent['rstudent_log'] < -seuil_rstudent]['rstudent_log'], color='r')\n",
    "\n",
    "\n",
    "# Mise en place du seuil studentisé(1.9599), pour délimiter les valeurs qui sort de ce seuil\n",
    "plt.axhline(y=seuil_rstudent, color='y', linestyle='-')\n",
    "plt.axhline(y=-seuil_rstudent, color='y', linestyle='-')\n",
    "\n",
    "plt.xlabel('Observations', fontsize=15)\n",
    "plt.ylabel('Résidus studentisés Modèle Logarithmé', fontsize=15)\n",
    "plt.title('Analyse graphique des résidus studentisés du Modèle logarithmé', fontsize=20)\n",
    "\n",
    "plt.ylim(-6, 6)\n",
    "plt.savefig('Graphs/residus_studentises_modele_logarithmé.jpg')\n",
    "plt.show()"
   ]
  },
  {
   "cell_type": "markdown",
   "id": "e44dbaf9",
   "metadata": {},
   "source": [
    "Aucune conclusion peut être menée à partir de ses deux derniers graphiques, chacun à plusieurs valeurs qui sortent du seuil ce qui ne nous indique pas quel modèle est le plus performant."
   ]
  },
  {
   "cell_type": "code",
   "execution_count": 37,
   "id": "d2b15e10",
   "metadata": {},
   "outputs": [
    {
     "name": "stdout",
     "output_type": "stream",
     "text": [
      "411 Valeurs influentes dans le modèle non logarithmé\n",
      "646 Valeurs influentes dans le modèle logarithmé\n"
     ]
    }
   ],
   "source": [
    "# Comparaisons du nombre de valeurs sortant du seuil/influentes entre les deux modèles\n",
    "print(str(len(df_500_copy_rstudent[(df_500_copy_rstudent['rstudent_non_log'] > seuil_rstudent) |\n",
    "                               (df_500_copy_rstudent['rstudent_non_log'] < -seuil_rstudent)])),\n",
    "                                'Valeurs influentes dans le modèle non logarithmé')\n",
    "\n",
    "print(str(len(df_500_copy_rstudent[(df_500_copy_rstudent['rstudent_log'] > seuil_rstudent) |\n",
    "                               (df_500_copy_rstudent['rstudent_log'] < -seuil_rstudent)])),\n",
    "                                'Valeurs influentes dans le modèle logarithmé')"
   ]
  },
  {
   "cell_type": "code",
   "execution_count": 38,
   "id": "14bb852c",
   "metadata": {},
   "outputs": [
    {
     "name": "stdout",
     "output_type": "stream",
     "text": [
      "Modèle non logarithmé : 3.69%\n",
      "Modèle logarithmé : 5.58%\n"
     ]
    }
   ],
   "source": [
    "# Comparons le pourcentage de valeurs influentes dans nos modèles\n",
    "print('Modèle non logarithmé : ' + str((round(428 / len(df_500_copy_rstudent) * 100, 2))) + '%')\n",
    "print('Modèle logarithmé : ' + str((round(647 / len(df_500_copy_rstudent) * 100, 2))) + '%')"
   ]
  },
  {
   "cell_type": "markdown",
   "id": "d538593c",
   "metadata": {},
   "source": [
    "Résumons les résultats obtenus sur nos test de valeurs influentes, Le modèle logarithmé reste favoris par rapport à celui non logarithmé, car nous avons moins de levier d'influence sur le modèle logarithmé à hauteur de 4.3% contre 9.5% pour le modèle non logarithmé, nous avons une meilleur idée des pays influents dans notre modèle logarithmé mais aussi une meilleur variance expliqué."
   ]
  },
  {
   "cell_type": "markdown",
   "id": "285c3deb",
   "metadata": {},
   "source": [
    "### Distance de Cook"
   ]
  },
  {
   "cell_type": "markdown",
   "id": "2fbf5fac",
   "metadata": {},
   "source": [
    "Ce test va nous permettre de visualiser de potentielle valeurs aberrantes qui mériterons une étude."
   ]
  },
  {
   "cell_type": "code",
   "execution_count": 39,
   "id": "d67b03c0",
   "metadata": {},
   "outputs": [],
   "source": [
    "# Récupération des valeurs influentes dans notre modèle de régresion\n",
    "influence_non_log = lineaire_income.get_influence()\n",
    "influence_log = lineaire_ln_income.get_influence()\n",
    "\n",
    "# Stockage du calcul de la distance de cook pour chaque observations\n",
    "cooks1 = influence_non_log.cooks_distance[0]\n",
    "cooks2 = influence_log.cooks_distance[0]\n",
    "\n",
    "# Création de nouvelles variables dans notre dataframe\n",
    "df_500_copy['cook_non_log'] = cooks1\n",
    "df_500_copy['cook_log'] = cooks2"
   ]
  },
  {
   "cell_type": "code",
   "execution_count": 40,
   "id": "3828e540",
   "metadata": {},
   "outputs": [],
   "source": [
    "# Définir le seuil de la distance de cook qui est exprimé comme :\n",
    "seuil_dcook = 4/(n-p)"
   ]
  },
  {
   "cell_type": "code",
   "execution_count": 41,
   "id": "d0577c97",
   "metadata": {},
   "outputs": [],
   "source": [
    "# Simplification de notre dataframe pour une meilleur visiblité\n",
    "df_500_copy_dcook = df_500_copy.groupby(['country', 'quantile']).mean().reset_index()"
   ]
  },
  {
   "cell_type": "code",
   "execution_count": 42,
   "id": "5e03ad14",
   "metadata": {},
   "outputs": [
    {
     "data": {
      "image/png": "[encoded data removed]",
      "text/plain": [
       "<Figure size 1440x720 with 1 Axes>"
      ]
     },
     "metadata": {},
     "output_type": "display_data"
    }
   ],
   "source": [
    "#Visualisation globale des distances de Cook du Modèle non logarithmé avec représentation du seuil\n",
    "plt.figure(figsize=(20,10))\n",
    "\n",
    "plt.bar(df_500_copy_dcook.loc[df_500_copy_dcook['cook_non_log'] < seuil_dcook]['country'].index,\n",
    "        df_500_copy_dcook.loc[df_500_copy_dcook['cook_non_log'] < seuil_dcook]['cook_non_log'], color='b')\n",
    "plt.bar(df_500_copy_dcook.loc[df_500_copy_dcook['cook_non_log'] >= seuil_dcook]['country'].index,\n",
    "        df_500_copy_dcook.loc[df_500_copy_dcook['cook_non_log'] >= seuil_dcook]['cook_non_log'], color='r')\n",
    "\n",
    "plt.plot([0, 12000], [seuil_dcook, seuil_dcook], color='y')\n",
    "plt.ylim(0, 0.000010)\n",
    "\n",
    "plt.xlabel('Observations', fontsize=15)\n",
    "plt.ylabel('Distances de Cook', fontsize=15)\n",
    "plt.title('Analyse graphique des distances de Cook Modèle non logarithmé', fontsize=20)\n",
    "\n",
    "plt.savefig('Graphs/dcook_model_non_log.jpg')\n",
    "plt.show()"
   ]
  },
  {
   "cell_type": "code",
   "execution_count": 43,
   "id": "f63ff845",
   "metadata": {},
   "outputs": [
    {
     "data": {
      "image/png": "[encoded data removed]",
      "text/plain": [
       "<Figure size 1440x720 with 1 Axes>"
      ]
     },
     "metadata": {},
     "output_type": "display_data"
    }
   ],
   "source": [
    "#Visualisation globale des distances de Cook du Modèle logarithmé avec représentation du seuil\n",
    "plt.figure(figsize=(20,10))\n",
    "\n",
    "plt.bar(df_500_copy_dcook.loc[df_500_copy_dcook['cook_log'] < seuil_dcook]['country'].index,\n",
    "        df_500_copy_dcook.loc[df_500_copy_dcook['cook_log'] < seuil_dcook]['cook_log'], color='b')\n",
    "plt.bar(df_500_copy_dcook.loc[df_500_copy_dcook['cook_log'] >= seuil_dcook]['country'].index,\n",
    "        df_500_copy_dcook.loc[df_500_copy_dcook['cook_log'] >= seuil_dcook]['cook_log'], color='r')\n",
    "\n",
    "plt.plot([0, 12000], [seuil_dcook, seuil_dcook], color='y')\n",
    "plt.ylim(0, 0.000010)\n",
    "\n",
    "plt.xlabel('Observations', fontsize=15)\n",
    "plt.ylabel('Distances de Cook', fontsize=15)\n",
    "plt.title('Analyse graphique des distances de Cook Modèle logarithmé', fontsize=20)\n",
    "\n",
    "plt.savefig('Graphs/dcook_model_log.jpg')\n",
    "plt.show()"
   ]
  },
  {
   "cell_type": "code",
   "execution_count": 44,
   "id": "8505ac5c",
   "metadata": {},
   "outputs": [
    {
     "name": "stdout",
     "output_type": "stream",
     "text": [
      "585 Valeurs influentes dans le modèle non logarithmé\n",
      "683 Valeurs influentes dans le modèle logarithmé\n"
     ]
    }
   ],
   "source": [
    "# Comparaisons du nombre de valeurs sortant du seuil/influentes entre les deux modèles\n",
    "print(str(len(df_500_copy_dcook[(df_500_copy_dcook['cook_non_log'] > seuil_dcook)])),\n",
    "                                'Valeurs influentes dans le modèle non logarithmé')\n",
    "\n",
    "print(str(len(df_500_copy_dcook[(df_500_copy_dcook['cook_log'] > seuil_dcook)])),\n",
    "                                'Valeurs influentes dans le modèle logarithmé')"
   ]
  },
  {
   "cell_type": "code",
   "execution_count": 45,
   "id": "2edb7f72",
   "metadata": {},
   "outputs": [
    {
     "name": "stdout",
     "output_type": "stream",
     "text": [
      "Modèle non logarithmé : 5.22%\n",
      "Modèle logarithmé : 5.79%\n"
     ]
    }
   ],
   "source": [
    "# Comparons le pourcentage de valeurs influentes dans nos modèles\n",
    "print('Modèle non logarithmé : ' + str((round(605 / len(df_500_copy_dcook) * 100, 2))) + '%')\n",
    "print('Modèle logarithmé : ' + str((round(672 / len(df_500_copy_dcook) * 100, 2))) + '%')"
   ]
  },
  {
   "cell_type": "markdown",
   "id": "10e59923",
   "metadata": {},
   "source": [
    "En résumé, de notre analyse de la distance de Cook nos deux modèles sont plutôt équivalent à hauteur de 5%."
   ]
  },
  {
   "cell_type": "markdown",
   "id": "8f5e80a1",
   "metadata": {},
   "source": [
    "## Amélioration du modèle le plus performant en incluant la classe de revenu des parents"
   ]
  },
  {
   "cell_type": "code",
   "execution_count": 46,
   "id": "1ba6a33f",
   "metadata": {},
   "outputs": [
    {
     "data": {
      "text/html": [
       "<table class=\"simpletable\">\n",
       "<caption>OLS Regression Results</caption>\n",
       "<tr>\n",
       "  <th>Dep. Variable:</th>        <td>ln_income</td>    <th>  R-squared:         </th>  <td>   0.727</td>  \n",
       "</tr>\n",
       "<tr>\n",
       "  <th>Model:</th>                   <td>OLS</td>       <th>  Adj. R-squared:    </th>  <td>   0.727</td>  \n",
       "</tr>\n",
       "<tr>\n",
       "  <th>Method:</th>             <td>Least Squares</td>  <th>  F-statistic:       </th>  <td>1.289e+06</td> \n",
       "</tr>\n",
       "<tr>\n",
       "  <th>Date:</th>             <td>Fri, 18 Mar 2022</td> <th>  Prob (F-statistic):</th>   <td>  0.00</td>   \n",
       "</tr>\n",
       "<tr>\n",
       "  <th>Time:</th>                 <td>18:10:47</td>     <th>  Log-Likelihood:    </th> <td>-1.5841e+06</td>\n",
       "</tr>\n",
       "<tr>\n",
       "  <th>No. Observations:</th>      <td>1450000</td>     <th>  AIC:               </th>  <td>3.168e+06</td> \n",
       "</tr>\n",
       "<tr>\n",
       "  <th>Df Residuals:</th>          <td>1449996</td>     <th>  BIC:               </th>  <td>3.168e+06</td> \n",
       "</tr>\n",
       "<tr>\n",
       "  <th>Df Model:</th>              <td>     3</td>      <th>                     </th>      <td> </td>     \n",
       "</tr>\n",
       "<tr>\n",
       "  <th>Covariance Type:</th>      <td>nonrobust</td>    <th>                     </th>      <td> </td>     \n",
       "</tr>\n",
       "</table>"
      ],
      "text/plain": [
       "<class 'statsmodels.iolib.table.SimpleTable'>"
      ]
     },
     "execution_count": 46,
     "metadata": {},
     "output_type": "execute_result"
    }
   ],
   "source": [
    "# Ajout de la variable 'c_i_parent' à notre régression linéaire sur nos données logarithmé\n",
    "lineaire_final = smf.ols('ln_income ~ Gj + c_i_parent + ln_mj', data = df_500).fit(alpha=alpha)\n",
    "lineaire_final.summary().tables[0]"
   ]
  },
  {
   "cell_type": "markdown",
   "id": "ecee6187",
   "metadata": {},
   "source": [
    "Aucune influence de notre variable 'c_i_parent' sur notre variable dépendente 'ln_income'."
   ]
  },
  {
   "cell_type": "code",
   "execution_count": 47,
   "id": "c9b914db",
   "metadata": {},
   "outputs": [
    {
     "data": {
      "text/html": [
       "<div>\n",
       "<style scoped>\n",
       "    .dataframe tbody tr th:only-of-type {\n",
       "        vertical-align: middle;\n",
       "    }\n",
       "\n",
       "    .dataframe tbody tr th {\n",
       "        vertical-align: top;\n",
       "    }\n",
       "\n",
       "    .dataframe thead th {\n",
       "        text-align: right;\n",
       "    }\n",
       "</style>\n",
       "<table border=\"1\" class=\"dataframe\">\n",
       "  <thead>\n",
       "    <tr style=\"text-align: right;\">\n",
       "      <th></th>\n",
       "      <th>sum_sq</th>\n",
       "      <th>df</th>\n",
       "      <th>F</th>\n",
       "      <th>PR(&gt;F)</th>\n",
       "    </tr>\n",
       "  </thead>\n",
       "  <tbody>\n",
       "    <tr>\n",
       "      <th>Gj</th>\n",
       "      <td>2.442120e+04</td>\n",
       "      <td>1.0</td>\n",
       "      <td>4.691604e+04</td>\n",
       "      <td>0.000000</td>\n",
       "    </tr>\n",
       "    <tr>\n",
       "      <th>c_i_parent</th>\n",
       "      <td>1.367570e+00</td>\n",
       "      <td>1.0</td>\n",
       "      <td>2.627265e+00</td>\n",
       "      <td>0.105043</td>\n",
       "    </tr>\n",
       "    <tr>\n",
       "      <th>ln_mj</th>\n",
       "      <td>1.709946e+06</td>\n",
       "      <td>1.0</td>\n",
       "      <td>3.285010e+06</td>\n",
       "      <td>0.000000</td>\n",
       "    </tr>\n",
       "    <tr>\n",
       "      <th>Residual</th>\n",
       "      <td>7.547662e+05</td>\n",
       "      <td>1449996.0</td>\n",
       "      <td>NaN</td>\n",
       "      <td>NaN</td>\n",
       "    </tr>\n",
       "  </tbody>\n",
       "</table>\n",
       "</div>"
      ],
      "text/plain": [
       "                  sum_sq         df             F    PR(>F)\n",
       "Gj          2.442120e+04        1.0  4.691604e+04  0.000000\n",
       "c_i_parent  1.367570e+00        1.0  2.627265e+00  0.105043\n",
       "ln_mj       1.709946e+06        1.0  3.285010e+06  0.000000\n",
       "Residual    7.547662e+05  1449996.0           NaN       NaN"
      ]
     },
     "execution_count": 47,
     "metadata": {},
     "output_type": "execute_result"
    }
   ],
   "source": [
    "decomp_lineaire_final = sms.anova_lm(lineaire_final, typ=2)\n",
    "decomp_lineaire_final"
   ]
  },
  {
   "cell_type": "code",
   "execution_count": 48,
   "id": "82fe2d64",
   "metadata": {},
   "outputs": [
    {
     "name": "stdout",
     "output_type": "stream",
     "text": [
      "SCT = 2489134.5058060978\n",
      "SCE = 1734368.2865467283\n",
      "SCR = 1709945.7190797818\n",
      "R² = 0.6967756392839282\n",
      "La variable 'ln_mj' explique : 0.687% de la variance\n",
      "La variable 'Gj' explique : 0.01% de la variance\n",
      "La variable 'c_i_parent' explique : 0.0% de la variance\n",
      "Les résidus explique : 0.303% de la variance\n"
     ]
    }
   ],
   "source": [
    "#SCT\n",
    "print('SCT = ' + str(decomp_lineaire_final.values[:,0].sum()))\n",
    "\n",
    "#SCE\n",
    "print('SCE = ' + str(decomp_lineaire_final.values[0,0] + decomp_lineaire_final.values[1,0] + decomp_lineaire_final.values[2,0]))\n",
    "\n",
    "#SCR\n",
    "print('SCR = ' + str(decomp_lineaire_final.values[2,0]))\n",
    "\n",
    "#R2 squared\n",
    "print('R² = ' + str((decomp_lineaire_final.values[0,0] + decomp_lineaire_final.values[1,0] + decomp_lineaire_final.values[2,0]) / decomp_lineaire_final.values[:,0].sum()))\n",
    "\n",
    "#Variance expliquée par le revenu moyen du pays (ln_mj)\n",
    "print(\"La variable 'ln_mj' explique : {}% de la variance\".format(round(sm.stats.anova_lm(lineaire_final, typ=2).values[2,0] / decomp_lineaire_final.values[:,0].sum(), 3)))\n",
    "\n",
    "#Variance expliquée par l'indice de Gini\n",
    "print(\"La variable 'Gj' explique : {}% de la variance\".format(round(sm.stats.anova_lm(lineaire_final, typ=2).values[0,0] / decomp_lineaire_final.values[:,0].sum(), 3)))\n",
    "\n",
    "#Variance expliquée par la classe de revenus des parents\n",
    "print(\"La variable 'c_i_parent' explique : {}% de la variance\".format(round(sm.stats.anova_lm(lineaire_final, typ=2).values[1,0] / decomp_lineaire_final.values[:,0].sum(), 3)))\n",
    "\n",
    "#Les résidus\n",
    "print(\"Les résidus explique : {}% de la variance\".format(round(sm.stats.anova_lm(lineaire_final, typ=2).values[3,0] / decomp_lineaire_final.values[:,0].sum(), 3)))"
   ]
  }
 ],
 "metadata": {
  "kernelspec": {
   "display_name": "Python 3 (ipykernel)",
   "language": "python",
   "name": "python3"
  },
  "language_info": {
   "codemirror_mode": {
    "name": "ipython",
    "version": 3
   },
   "file_extension": ".py",
   "mimetype": "text/x-python",
   "name": "python",
   "nbconvert_exporter": "python",
   "pygments_lexer": "ipython3",
   "version": "3.9.7"
  }
 },
 "nbformat": 4,
 "nbformat_minor": 5
}
